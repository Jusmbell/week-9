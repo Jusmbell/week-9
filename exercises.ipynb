{
  "cells": [
    {
      "cell_type": "markdown",
      "id": "5c02d8d7",
      "metadata": {},
      "source": [
        "<font color='darkred'> Unless otherwise noted, **this notebook will not be reviewed or autograded.**</font> You are welcome to use it for scratchwork, but **only the files listed in the exercises will be checked.**\n",
        "\n",
        "---\n",
        "\n",
        "# Exercises\n",
        "\n",
        "For these exercises, add your functions to the *app\\.py* file and the *apputil\\.py* file."
      ]
    },
    {
      "cell_type": "markdown",
      "id": "5a24d634-305e-45c8-8e6e-69102c47ede2",
      "metadata": {
        "id": "5a24d634-305e-45c8-8e6e-69102c47ede2"
      },
      "source": [
        "# Building a basic model\n",
        "\n",
        "We'll build a [Python class](https://pythonbasics.org/class/) called `GroupEstimate` which takes in *categorical* data and corresponding *continuous* values, determines which group a new observation falls into, and \"predicts\" an estimate value based on the data provided."
      ]
    },
    {
      "cell_type": "markdown",
      "id": "877feef4",
      "metadata": {},
      "source": [
        "## Exercise 1\n",
        "\n",
        "### Part 1\n",
        "\n",
        "Define a class `GroupEstimate` that accepts an `estimate` argument, which can be either `\"mean\"` or `\"median\"`.\n",
        "\n",
        "### Part 2\n",
        "\n",
        "Add a `.fit(X, y)` method that takes in a pandas DataFrame of *categorical* data, `X`, and a 1-D array, `y`. There should be no missing values in `y`, and each row of `X` corresponds to the same \"row\" in `y`, so they should be the same length.\n",
        "\n",
        "- Combine `X` and `y` into a shared pandas DataFrame.\n",
        "- Group the DataFrame by the columns in `X`.\n",
        "- For each group, calculate either the mean or median value of `y`, depending on the `estimate` argument.\n",
        "- *Note: Your class should not \"store\" `X` or `y`.* Only \"save\" the data needed to accomplish Part 3, below.\n",
        "\n",
        "### Part 3\n",
        "\n",
        "Add a `.predict(X_)` method that takes in an array of observations (or a dataframe) corresponding to the columns in `X_`, determines which group they fall into, and returns the corresponding estimates for `y`.\n",
        "\n",
        "If an incoming category or combination of categories was missing in the original data, return `NaN` for that observation and print a message indicating the number of missing groups."
      ]
    },
    {
      "cell_type": "markdown",
      "id": "c031e41b",
      "metadata": {},
      "source": [
        "### Example\n",
        "\n",
        "For example, if we have a dataframe of coffee reviews, and `X` includes two columns: *country* and *roast type*, we might want to predict the average *review score* for a new coffee from a given country and roast type. In this way, we could run:\n",
        "\n",
        "```python\n",
        "X = df_raw[[\"loc_country\", \"roast\"]]\n",
        "y = df_raw[\"rating\"]\n",
        "\n",
        "gm = GroupEstimate(estimate='mean')\n",
        "gm.fit(X, y)\n",
        "\n",
        "X_ = [[\"Guatemala\", \"Light\"],\n",
        "      [\"Mexico\", \"Medium\"],\n",
        "      [\"Canada\", \"Dark\"]]\n",
        "\n",
        "gm.predict(X_)\n",
        "\n",
        ">> [88.4, 91. ,  nan]  # say there are no Canadian dark roasts\n",
        "```"
      ]
    },
    {
      "cell_type": "markdown",
      "id": "6f05c34e",
      "metadata": {},
      "source": [
        "## Bonus Exercise 2\n",
        "\n",
        "Adjust your `GroupEstimate` class to handle the situation where the combination of categories is missing, but a particular category is not. That is, add to your `.fit` method an optional argument `default_category`. If a combination is missing, the estimate for `y` will be based solely on the group defined by `default_category`.\n",
        "\n",
        "For example, suppose we have the code in the example above, but we replace the fit line with\n",
        "\n",
        "```python\n",
        "# ...\n",
        "gm.fit(X, y, default_cagegory=\"country\")\n",
        "# ...\n",
        "\n",
        ">> [4.5, 3.8, 3.1]\n",
        "```\n",
        "\n",
        "In this case, the missing value in that array would be filled with the average review score for Brazilian roasts.\n",
        "\n",
        "*Hint: consider the `observed` argument of the `groupby` [method](https://pandas.pydata.org/docs/reference/api/pandas.DataFrame.groupby.html), and go from there ...*"
      ]
    },
    {
      "cell_type": "markdown",
      "id": "f91e3e0f",
      "metadata": {},
      "source": [
        "## Testing the GroupEstimate Class\n",
        "\n",
        "Let's test the implementation with a simple example:"
      ]
    },
    {
      "cell_type": "code",
      "execution_count": 1,
      "id": "f9b02144",
      "metadata": {},
      "outputs": [
        {
          "name": "stdout",
          "output_type": "stream",
          "text": [
            "Sample data:\n",
            "  loc_country   roast  rating\n",
            "0   Guatemala   Light      88\n",
            "1   Guatemala   Light      89\n",
            "2   Guatemala  Medium      85\n",
            "3      Mexico  Medium      90\n",
            "4      Mexico  Medium      92\n",
            "5      Brazil   Light      87\n",
            "6      Brazil  Medium      86\n",
            "7      Brazil    Dark      84\n",
            "\n",
            "Group means:\n",
            "loc_country  roast \n",
            "Brazil       Dark      84.0\n",
            "             Light     87.0\n",
            "             Medium    86.0\n",
            "Guatemala    Light     88.5\n",
            "             Medium    85.0\n",
            "Mexico       Medium    91.0\n",
            "Name: rating, dtype: float64\n"
          ]
        }
      ],
      "source": [
        "# Import the class\n",
        "import pandas as pd\n",
        "import numpy as np\n",
        "from apputil import GroupEstimate\n",
        "\n",
        "# Create sample data - coffee reviews\n",
        "data = {\n",
        "    'loc_country': ['Guatemala', 'Guatemala', 'Guatemala', 'Mexico', 'Mexico', 'Brazil', 'Brazil', 'Brazil'],\n",
        "    'roast': ['Light', 'Light', 'Medium', 'Medium', 'Medium', 'Light', 'Medium', 'Dark'],\n",
        "    'rating': [88, 89, 85, 90, 92, 87, 86, 84]\n",
        "}\n",
        "\n",
        "df_raw = pd.DataFrame(data)\n",
        "print(\"Sample data:\")\n",
        "print(df_raw)\n",
        "print(\"\\nGroup means:\")\n",
        "print(df_raw.groupby(['loc_country', 'roast'])['rating'].mean())"
      ]
    },
    {
      "cell_type": "code",
      "execution_count": 2,
      "id": "04c176af",
      "metadata": {},
      "outputs": [
        {
          "name": "stdout",
          "output_type": "stream",
          "text": [
            "Warning: 1 observation(s) with missing group(s)\n",
            "\n",
            "Test predictions (with mean):\n",
            "Guatemala + Light: 88.5\n",
            "Mexico + Medium: 91.0\n",
            "Canada + Dark: nan\n"
          ]
        }
      ],
      "source": [
        "# Test Exercise 1 - Basic functionality with mean\n",
        "X = df_raw[[\"loc_country\", \"roast\"]]\n",
        "y = df_raw[\"rating\"]\n",
        "\n",
        "gm = GroupEstimate(estimate='mean')\n",
        "gm.fit(X, y)\n",
        "\n",
        "# Test predictions with existing and missing combinations\n",
        "X_test = [[\"Guatemala\", \"Light\"],\n",
        "          [\"Mexico\", \"Medium\"],\n",
        "          [\"Canada\", \"Dark\"]]  # This combination doesn't exist\n",
        "\n",
        "predictions = gm.predict(X_test)\n",
        "print(\"\\nTest predictions (with mean):\")\n",
        "print(f\"Guatemala + Light: {predictions[0]}\")\n",
        "print(f\"Mexico + Medium: {predictions[1]}\")\n",
        "print(f\"Canada + Dark: {predictions[2]}\")"
      ]
    },
    {
      "cell_type": "code",
      "execution_count": 3,
      "id": "6048bb50",
      "metadata": {},
      "outputs": [
        {
          "name": "stdout",
          "output_type": "stream",
          "text": [
            "Warning: 1 observation(s) with missing group(s)\n",
            "\n",
            "Test predictions (with median):\n",
            "Guatemala + Light: 88.5\n",
            "Mexico + Medium: 91.0\n",
            "Canada + Dark: nan\n"
          ]
        }
      ],
      "source": [
        "# Test with median instead\n",
        "gm_median = GroupEstimate(estimate='median')\n",
        "gm_median.fit(X, y)\n",
        "\n",
        "predictions_median = gm_median.predict(X_test)\n",
        "print(\"\\nTest predictions (with median):\")\n",
        "print(f\"Guatemala + Light: {predictions_median[0]}\")\n",
        "print(f\"Mexico + Medium: {predictions_median[1]}\")\n",
        "print(f\"Canada + Dark: {predictions_median[2]}\")"
      ]
    },
    {
      "cell_type": "code",
      "execution_count": 5,
      "id": "f78c5f21",
      "metadata": {},
      "outputs": [
        {
          "name": "stdout",
          "output_type": "stream",
          "text": [
            "Warning: 1 observation(s) with missing group(s)\n",
            "\n",
            "Test predictions (with default_category='loc_country'):\n",
            "Guatemala + Light: 88.5\n",
            "Mexico + Medium: 91.0\n",
            "Brazil + Dark: 84.0\n",
            "Canada + Dark (fallback to Canada avg): nan\n"
          ]
        }
      ],
      "source": [
        "# Test Bonus Exercise 2 - Using default_category\n",
        "gm_default = GroupEstimate(estimate='mean')\n",
        "gm_default.fit(X, y, default_category=\"loc_country\")\n",
        "\n",
        "# Test with the same data - Canada doesn't exist, but we should get Brazil's average\n",
        "X_test_bonus = [[\"Guatemala\", \"Light\"],\n",
        "                [\"Mexico\", \"Medium\"],\n",
        "                [\"Brazil\", \"Dark\"],  # Exists in data\n",
        "                [\"Canada\", \"Dark\"]]  # Doesn't exist, should use Canada's average if it existed\n",
        "\n",
        "predictions_default = gm_default.predict(X_test_bonus)\n",
        "print(\"\\nTest predictions (with default_category='loc_country'):\")\n",
        "print(f\"Guatemala + Light: {predictions_default[0]}\")\n",
        "print(f\"Mexico + Medium: {predictions_default[1]}\")\n",
        "print(f\"Brazil + Dark: {predictions_default[2]}\")\n",
        "print(f\"Canada + Dark (fallback to Canada avg): {predictions_default[3]}\")  # Will still be NaN since Canada doesn't exist at all"
      ]
    },
    {
      "cell_type": "code",
      "execution_count": 6,
      "id": "d1833050",
      "metadata": {},
      "outputs": [
        {
          "name": "stdout",
          "output_type": "stream",
          "text": [
            "\n",
            "Better test for default_category:\n",
            "Guatemala + Light (exists): 88.5\n",
            "Guatemala + Dark (missing, fallback to Guatemala avg): 87.33333333333333\n",
            "Brazil + Light (exists): 87.0\n",
            "\n",
            "For reference, country averages:\n",
            "loc_country\n",
            "Brazil       85.666667\n",
            "Guatemala    87.333333\n",
            "Mexico       91.000000\n",
            "Name: rating, dtype: float64\n"
          ]
        }
      ],
      "source": [
        "# Better test for default_category - use a missing combination that has a known country\n",
        "X_test_bonus2 = [[\"Guatemala\", \"Light\"],    # Exists: should be 88.5\n",
        "                 [\"Guatemala\", \"Dark\"],     # Missing combo, but Guatemala exists - should use Guatemala avg\n",
        "                 [\"Brazil\", \"Light\"]]       # Exists: should be 87\n",
        "\n",
        "predictions_default2 = gm_default.predict(X_test_bonus2)\n",
        "print(\"\\nBetter test for default_category:\")\n",
        "print(f\"Guatemala + Light (exists): {predictions_default2[0]}\")\n",
        "print(f\"Guatemala + Dark (missing, fallback to Guatemala avg): {predictions_default2[1]}\")\n",
        "print(f\"Brazil + Light (exists): {predictions_default2[2]}\")\n",
        "\n",
        "print(\"\\nFor reference, country averages:\")\n",
        "print(df_raw.groupby('loc_country')['rating'].mean())"
      ]
    }
  ],
  "metadata": {
    "colab": {
      "provenance": []
    },
    "kernelspec": {
      "display_name": "base",
      "language": "python",
      "name": "python3"
    },
    "language_info": {
      "codemirror_mode": {
        "name": "ipython",
        "version": 3
      },
      "file_extension": ".py",
      "mimetype": "text/x-python",
      "name": "python",
      "nbconvert_exporter": "python",
      "pygments_lexer": "ipython3",
      "version": "3.12.4"
    }
  },
  "nbformat": 4,
  "nbformat_minor": 5
}
